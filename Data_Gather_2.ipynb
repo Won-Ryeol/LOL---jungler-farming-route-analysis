{
 "cells": [
  {
   "cell_type": "code",
   "execution_count": 3,
   "id": "25d70c5f",
   "metadata": {},
   "outputs": [],
   "source": [
    "import requests\n",
    "import pathlib\n",
    "from pathlib import Path\n",
    "import json\n",
    "import time\n",
    "import datetime\n",
    "import random\n",
    "import pandas\n",
    "\n",
    "api_key = 'RGAPI-de4ca461-f449-40f3-8495-1e386bea0e9c'"
   ]
  },
  {
   "cell_type": "code",
   "execution_count": null,
   "id": "6bec08b9",
   "metadata": {},
   "outputs": [],
   "source": []
  }
 ],
 "metadata": {
  "kernelspec": {
   "display_name": "Python 3",
   "language": "python",
   "name": "python3"
  },
  "language_info": {
   "codemirror_mode": {
    "name": "ipython",
    "version": 3
   },
   "file_extension": ".py",
   "mimetype": "text/x-python",
   "name": "python",
   "nbconvert_exporter": "python",
   "pygments_lexer": "ipython3",
   "version": "3.7.10"
  }
 },
 "nbformat": 4,
 "nbformat_minor": 5
}
