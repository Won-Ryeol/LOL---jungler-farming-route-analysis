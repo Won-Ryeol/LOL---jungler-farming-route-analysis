{
 "cells": [
  {
   "cell_type": "code",
   "execution_count": 10,
   "metadata": {},
   "outputs": [],
   "source": [
    "from pathlib import Path\n",
    "import os\n",
    "from os import listdir\n",
    "from os.path import isfile, join\n",
    "\n",
    "tl_path = './data/match_timeline_test'\n",
    "if_path = './data/match_info_test'"
   ]
  },
  {
   "cell_type": "code",
   "execution_count": 11,
   "metadata": {},
   "outputs": [
    {
     "name": "stdout",
     "output_type": "stream",
     "text": [
      "7795 7670\n"
     ]
    }
   ],
   "source": [
    "print(len(tl_files), len(if_files))"
   ]
  },
  {
   "cell_type": "code",
   "execution_count": 12,
   "metadata": {},
   "outputs": [
    {
     "name": "stdout",
     "output_type": "stream",
     "text": [
      "7670\r"
     ]
    }
   ],
   "source": [
    "def remove_low_size(path):\n",
    "    count = 0\n",
    "    files = [f for f in listdir(path) if isfile(join(path, f))]\n",
    "    for i in files:\n",
    "        if (Path('%s/%s'%(path,i)).stat().st_size < 100):\n",
    "            os.remove('%s/%s'%(path,i))\n",
    "        count = count + 1\n",
    "        print(count, end ='\\r')\n",
    "\n",
    "remove_low_size(tl_path)\n",
    "remove_low_size(if_path)"
   ]
  },
  {
   "cell_type": "code",
   "execution_count": 13,
   "metadata": {},
   "outputs": [
    {
     "name": "stdout",
     "output_type": "stream",
     "text": [
      "7795 7670\n"
     ]
    }
   ],
   "source": [
    "print(len(tl_files), len(if_files))"
   ]
  },
  {
   "cell_type": "code",
   "execution_count": 34,
   "metadata": {},
   "outputs": [],
   "source": [
    "tl_files = [f for f in listdir(tl_path) if isfile(join(tl_path, f))]\n",
    "if_files = [f for f in listdir(if_path) if isfile(join(if_path, f))]\n",
    "tl_del = list(set(tl_files)-set(if_files))\n",
    "if_del = list(set(if_files)-set(tl_files))\n",
    "\n",
    "for file in tl_del:\n",
    "    os.remove('%s/%s'%(tl_path,file))\n",
    "for file in if_del:\n",
    "    os.remove('%s/%s'%(if_path,file))    "
   ]
  },
  {
   "cell_type": "code",
   "execution_count": 37,
   "metadata": {},
   "outputs": [
    {
     "data": {
      "text/plain": [
       "True"
      ]
     },
     "execution_count": 37,
     "metadata": {},
     "output_type": "execute_result"
    }
   ],
   "source": [
    "tl_files = [f for f in listdir(tl_path) if isfile(join(tl_path, f))]\n",
    "if_files = [f for f in listdir(if_path) if isfile(join(if_path, f))]\n",
    "tl_files==if_files"
   ]
  },
  {
   "cell_type": "code",
   "execution_count": null,
   "metadata": {},
   "outputs": [],
   "source": []
  }
 ],
 "metadata": {
  "kernelspec": {
   "display_name": "Python 3",
   "language": "python",
   "name": "python3"
  },
  "language_info": {
   "codemirror_mode": {
    "name": "ipython",
    "version": 3
   },
   "file_extension": ".py",
   "mimetype": "text/x-python",
   "name": "python",
   "nbconvert_exporter": "python",
   "pygments_lexer": "ipython3",
   "version": "3.6.12"
  }
 },
 "nbformat": 4,
 "nbformat_minor": 4
}
