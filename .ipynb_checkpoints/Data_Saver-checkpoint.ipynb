{
 "cells": [
  {
   "cell_type": "code",
   "execution_count": 15,
   "metadata": {},
   "outputs": [],
   "source": [
    "import requests\n",
    "import pathlib\n",
    "from pathlib import Path\n",
    "import json\n",
    "import time\n",
    "import datetime\n",
    "import random\n",
    "\n",
    "api_key = 'RGAPI-cd4ce8f7-45b4-4953-8cf6-3193127c1736'"
   ]
  },
  {
   "cell_type": "code",
   "execution_count": 19,
   "metadata": {},
   "outputs": [],
   "source": [
    "def save_match(match_id, tier_code):\n",
    "    timeline_file = Path(f'./data/match_timeline/{tier_code}_{match_id}.json')\n",
    "    info_file = Path(f'./data/match_info/{tier_code}_{match_id}.json')\n",
    "    if timeline_file.is_file() and info_file.is_file():\n",
    "        print('Match data already exist', end = '\\r')\n",
    "    else:  \n",
    "        tl_request = f\"https://kr.api.riotgames.com/lol/match/v4/timelines/by-match/{match_id}?api_key={api_key}\"\n",
    "        info_request = f\"https://kr.api.riotgames.com/lol/match/v4/matches/{match_id}?api_key={api_key}\"\n",
    "\n",
    "        tl = requests.get(tl_request)\n",
    "        mts = requests.get(info_request)\n",
    "        \n",
    "        count = 0\n",
    "        while ('status' in mts.json()) or ('status' in tl.json()):\n",
    "            for _ in range(10):\n",
    "                print(f\"Waiting {count+1}\", end = \"\\r\")\n",
    "                count = count + 1\n",
    "                time.sleep(1)\n",
    "            tl = requests.get(tl_request)\n",
    "            mts = requests.get(info_request)\n",
    "        \n",
    "        pathlib.Path(f'./data/match_timeline/{tier_code}_{match_id}.json').write_bytes(tl.content)\n",
    "        pathlib.Path(f'./data/match_info/{tier_code}_{match_id}.json').write_bytes(mts.content)\n",
    "        print(f\"{match_id} Saved\", end = '\\r')"
   ]
  },
  {
   "cell_type": "code",
   "execution_count": 20,
   "metadata": {},
   "outputs": [],
   "source": [
    "def match_list_gather(tier):\n",
    "    try:\n",
    "        tier_names = ['DIAMOND','PLATINUM', 'GOLD', 'SILVER', 'BRONZE']\n",
    "        division_names = ['I','II','III','IV']\n",
    "\n",
    "        division = random.randrange(0,4)\n",
    "        page = random.randrange(1,100)\n",
    "        random_summoner = requests.get(\\\n",
    "                                       \"https://kr.api.riotgames.com/lol/league/v4/entries/RANKED_SOLO_5x5/%s/%s?page=%d&api_key=%s\"%\\\n",
    "                            (tier_names[tier],division_names[division],page,api_key))\n",
    "\n",
    "        random_dic = random_summoner.json()\n",
    "        random_id = random.choice(random_dic)['summonerId']\n",
    "\n",
    "        start = requests.get(\"https://kr.api.riotgames.com/lol/summoner/v4/summoners/%s?api_key=%s\"%(random_id,api_key))\n",
    "        start_acid = start.json()['accountId']\n",
    "\n",
    "        first_match_list = requests.get(\"https://kr.api.riotgames.com/lol/match/v4/matchlists/by-account/%s?api_key=%s\"%(start_acid,api_key))\n",
    "        match_list = (first_match_list.json())['matches']\n",
    "        match_list = [i['gameId'] for i in match_list]\n",
    "        print(\"%d %s %s match list loaded\"%(len(match_list),tier_names[tier],division_names[division]))\n",
    "        return match_list\n",
    "    except:\n",
    "        count = 0\n",
    "        while(1):\n",
    "            try:\n",
    "                test = \"https://kr.api.riotgames.com/lol/match/v4/matches/4198728328?api_key=\" + api_key\n",
    "                t = requests.get(test).json()\n",
    "                if(t['status']['status_code'] == 429):\n",
    "                    print(\"\")\n",
    "                    for i in range(10):\n",
    "                        print(\"Waiting \"+ str(count+1), end = \"\\r\")\n",
    "                        count = count + 1\n",
    "                        time.sleep(1)\n",
    "            except:\n",
    "                break\n",
    "        return match_list_gather(tier)"
   ]
  },
  {
   "cell_type": "code",
   "execution_count": 21,
   "metadata": {
    "scrolled": true
   },
   "outputs": [
    {
     "name": "stdout",
     "output_type": "stream",
     "text": [
      "100 DIAMOND I match list loaded\n",
      "100 PLATINUM II match list loaded\n",
      "100 GOLD II match list loaded\n",
      "100 SILVER II match list loaded\n",
      "100 BRONZE II match list loaded\n",
      "Done!, Processing Time : 0:20:49.706335\n"
     ]
    }
   ],
   "source": [
    "epoch = 1 #epoch 1당 약 21분 소요, data 500개 추가, 약 130MB 할당\n",
    "start_time = time.time()\n",
    "\n",
    "for tier in range(5):\n",
    "    for ep in range(epoch):\n",
    "        match_list = match_list_gather(tier)\n",
    "        for match in match_list:\n",
    "            save_match(match, tier+1)\n",
    "        print(\"match list saved\", end = '\\r')\n",
    "print(\"Done!, Processing Time : %s\"% str(datetime.timedelta(seconds=time.time()-start_time)))"
   ]
  },
  {
   "cell_type": "code",
   "execution_count": null,
   "metadata": {},
   "outputs": [],
   "source": []
  }
 ],
 "metadata": {
  "kernelspec": {
   "display_name": "Python 3",
   "language": "python",
   "name": "python3"
  },
  "language_info": {
   "codemirror_mode": {
    "name": "ipython",
    "version": 3
   },
   "file_extension": ".py",
   "mimetype": "text/x-python",
   "name": "python",
   "nbconvert_exporter": "python",
   "pygments_lexer": "ipython3",
   "version": "3.7.10"
  }
 },
 "nbformat": 4,
 "nbformat_minor": 4
}
