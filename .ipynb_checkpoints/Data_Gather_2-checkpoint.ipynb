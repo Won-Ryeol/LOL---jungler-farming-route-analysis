{
 "cells": [
  {
   "cell_type": "code",
   "execution_count": 25,
   "id": "25d70c5f",
   "metadata": {},
   "outputs": [],
   "source": [
    "import requests\n",
    "import pathlib\n",
    "from pathlib import Path\n",
    "import json\n",
    "import time\n",
    "import datetime\n",
    "import random\n",
    "import pandas"
   ]
  },
  {
   "cell_type": "code",
   "execution_count": 27,
   "id": "1a66e082",
   "metadata": {},
   "outputs": [],
   "source": [
    "def save_match(match_id, tier_code):\n",
    "    timeline_file = Path(f'../data/match_timeline/{tier_code}_{match_id}.json')\n",
    "    info_file = Path(f'../data/match_info/{tier_code}_{match_id}.json')\n",
    "    if timeline_file.is_file() and info_file.is_file():\n",
    "        print('Match data already exist', end = '\\r')\n",
    "    else:  \n",
    "        tl_request = f\"https://kr.api.riotgames.com/lol/match/v4/timelines/by-match/{match_id}?api_key={api_key}\"\n",
    "        info_request = f\"https://kr.api.riotgames.com/lol/match/v4/matches/{match_id}?api_key={api_key}\"\n",
    "\n",
    "        tl = requests.get(tl_request)\n",
    "        mts = requests.get(info_request)\n",
    "        \n",
    "        count = 0\n",
    "        while ('status' in mts.json()) or ('status' in tl.json()):\n",
    "            for _ in range(10):\n",
    "                print(f\"Waiting {count+1}\", end = \"\\r\")\n",
    "                count = count + 1\n",
    "                time.sleep(1)\n",
    "            tl = requests.get(tl_request)\n",
    "            mts = requests.get(info_request)\n",
    "        \n",
    "        pathlib.Path(f'../data/match_timeline/{tier_code}_{match_id}.json').write_bytes(tl.content)\n",
    "        pathlib.Path(f'../data/match_info/{tier_code}_{match_id}.json').write_bytes(mts.content)\n",
    "        print(f\"{match_id} Saved\", end = '\\r')\n",
    "        \n",
    "api_key = 'RGAPI-7adaaac4-c7b1-45f5-8ca5-049a6eb5b4ac'\n",
    "mat_list_req =requests.get(f\"https://kr.api.riotgames.com/lol/match/v4/matchlists/by-account/8VgQbFYx1eaDn_XS1ffVUK2EShfsoDcpsrkH9W-4zRvQu4k?api_key={api_key}\")\n",
    "mat_req = mat_list_req.json()\n",
    "mat_list = [match['gameId'] for match in mat_req['matches']]"
   ]
  },
  {
   "cell_type": "code",
   "execution_count": 24,
   "id": "96d3ac22",
   "metadata": {},
   "outputs": [
    {
     "name": "stdout",
     "output_type": "stream",
     "text": [
      "5135921756 Saved\r"
     ]
    }
   ],
   "source": [
    "for mat in mat_list:\n",
    "    save_match(mat,4)"
   ]
  },
  {
   "cell_type": "code",
   "execution_count": 28,
   "id": "fd13909f",
   "metadata": {},
   "outputs": [
    {
     "data": {
      "text/plain": [
       "[5203327027,\n",
       " 5203372424,\n",
       " 5203107736,\n",
       " 5203110336,\n",
       " 5202941315,\n",
       " 5201173721,\n",
       " 5195975026,\n",
       " 5195920486,\n",
       " 5195722620,\n",
       " 5195607826,\n",
       " 5195571473,\n",
       " 5194910965,\n",
       " 5190125609,\n",
       " 5190057053,\n",
       " 5190066243,\n",
       " 5190056196,\n",
       " 5190123578,\n",
       " 5190064350,\n",
       " 5190121441,\n",
       " 5190101511,\n",
       " 5190036750,\n",
       " 5189996198,\n",
       " 5189946963,\n",
       " 5189962037,\n",
       " 5189908348,\n",
       " 5189931190,\n",
       " 5189758629,\n",
       " 5189753542,\n",
       " 5189736361,\n",
       " 5189513075,\n",
       " 5189453688,\n",
       " 5189229144,\n",
       " 5188074791,\n",
       " 5188033178,\n",
       " 5187947147,\n",
       " 5187943017,\n",
       " 5187827771,\n",
       " 5187753867,\n",
       " 5187649986,\n",
       " 5187479461,\n",
       " 5187464552,\n",
       " 5187426763,\n",
       " 5186280576,\n",
       " 5186145090,\n",
       " 5186076780,\n",
       " 5186019916,\n",
       " 5185946661,\n",
       " 5185980378,\n",
       " 5185309706,\n",
       " 5185333713,\n",
       " 5176621566,\n",
       " 5176439615,\n",
       " 5173199353,\n",
       " 5173204982,\n",
       " 5165036532,\n",
       " 5164982477,\n",
       " 5164855772,\n",
       " 5164819412,\n",
       " 5164823299,\n",
       " 5161393679,\n",
       " 5161278890,\n",
       " 5161179296,\n",
       " 5161145218,\n",
       " 5160908002,\n",
       " 5157770334,\n",
       " 5157688359,\n",
       " 5157666935,\n",
       " 5154523211,\n",
       " 5154412498,\n",
       " 5154228569,\n",
       " 5154176265,\n",
       " 5153645731,\n",
       " 5153691708,\n",
       " 5153710976,\n",
       " 5153599774,\n",
       " 5153383456,\n",
       " 5151155915,\n",
       " 5151161336,\n",
       " 5151056229,\n",
       " 5150967799,\n",
       " 5148596496,\n",
       " 5143229549,\n",
       " 5143249093,\n",
       " 5143257968,\n",
       " 5143315649,\n",
       " 5141762324,\n",
       " 5141790191,\n",
       " 5141658840,\n",
       " 5141617848,\n",
       " 5141613970,\n",
       " 5141589287,\n",
       " 5141516039,\n",
       " 5141600429,\n",
       " 5141435193,\n",
       " 5139625798,\n",
       " 5137540038,\n",
       " 5137514461,\n",
       " 5137460305,\n",
       " 5137320793,\n",
       " 5135921756]"
      ]
     },
     "execution_count": 28,
     "metadata": {},
     "output_type": "execute_result"
    }
   ],
   "source": [
    "mat_list"
   ]
  },
  {
   "cell_type": "code",
   "execution_count": null,
   "id": "4e592312",
   "metadata": {},
   "outputs": [],
   "source": []
  }
 ],
 "metadata": {
  "kernelspec": {
   "display_name": "Python 3",
   "language": "python",
   "name": "python3"
  },
  "language_info": {
   "codemirror_mode": {
    "name": "ipython",
    "version": 3
   },
   "file_extension": ".py",
   "mimetype": "text/x-python",
   "name": "python",
   "nbconvert_exporter": "python",
   "pygments_lexer": "ipython3",
   "version": "3.7.10"
  }
 },
 "nbformat": 4,
 "nbformat_minor": 5
}
